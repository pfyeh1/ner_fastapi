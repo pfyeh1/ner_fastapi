{
 "cells": [
  {
   "cell_type": "code",
   "execution_count": 53,
   "metadata": {},
   "outputs": [],
   "source": [
    "import requests\n",
    "import json"
   ]
  },
  {
   "cell_type": "code",
   "execution_count": 54,
   "metadata": {},
   "outputs": [
    {
     "name": "stdout",
     "output_type": "stream",
     "text": [
      "{\"message\":\"Hello!\"}\n"
     ]
    }
   ],
   "source": [
    "# basic response when hitting the endpoint\n",
    "url = \"http://127.0.0.1:8000\"\n",
    "response = requests.get(url)\n",
    "print(response.text)"
   ]
  },
  {
   "cell_type": "code",
   "execution_count": 55,
   "metadata": {},
   "outputs": [
    {
     "name": "stdout",
     "output_type": "stream",
     "text": [
      "{\"entities\":[[\"Egypt\",\"GPE\"],[\"Gaza\",\"GPE\"],[\"Israel\",\"GPE\"]]}\n"
     ]
    }
   ],
   "source": [
    "ner_url = \"http://127.0.0.1:8000/entities\"\n",
    "\n",
    "payload = {\n",
    "    \"text\" : \"Egypt has reinforced its frontier with Gaza and warned Israel.\"\n",
    "    }\n",
    "response = requests.post(ner_url, json = payload)\n",
    "\n",
    "print(response.text)"
   ]
  },
  {
   "cell_type": "code",
   "execution_count": 56,
   "metadata": {},
   "outputs": [
    {
     "name": "stdout",
     "output_type": "stream",
     "text": [
      "{\"entities\":[[\"Egypt\",\"GPE\"],[\"Gaza\",\"GPE\"],[\"Israel\",\"GPE\"]]}\n"
     ]
    }
   ],
   "source": [
    "print(response.text)"
   ]
  }
 ],
 "metadata": {
  "kernelspec": {
   "display_name": "base",
   "language": "python",
   "name": "python3"
  },
  "language_info": {
   "codemirror_mode": {
    "name": "ipython",
    "version": 3
   },
   "file_extension": ".py",
   "mimetype": "text/x-python",
   "name": "python",
   "nbconvert_exporter": "python",
   "pygments_lexer": "ipython3",
   "version": "3.8.5"
  },
  "orig_nbformat": 4
 },
 "nbformat": 4,
 "nbformat_minor": 2
}
